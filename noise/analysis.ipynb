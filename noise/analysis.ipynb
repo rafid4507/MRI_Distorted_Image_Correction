{
 "cells": [
  {
   "cell_type": "markdown",
   "metadata": {},
   "source": [
    "### Dataset\n",
    "The real part is unbelievably large compared to the imaginary part, this is to test if we can only use the real part."
   ]
  },
  {
   "cell_type": "code",
   "execution_count": 1,
   "metadata": {},
   "outputs": [],
   "source": [
    "import torch\n",
    "import math\n",
    "import random\n",
    "import numpy as np"
   ]
  },
  {
   "cell_type": "code",
   "execution_count": 2,
   "metadata": {},
   "outputs": [],
   "source": [
    "data = torch.load('/home/matthias/Github/Hough-Transformations/data/qspace_orig01.pt')"
   ]
  },
  {
   "cell_type": "code",
   "execution_count": null,
   "metadata": {},
   "outputs": [],
   "source": [
    "data.shape"
   ]
  },
  {
   "cell_type": "code",
   "execution_count": null,
   "metadata": {},
   "outputs": [],
   "source": [
    "def get_mag(point):\n",
    "    #return torch.norm(point)\n",
    "    return math.sqrt(point[0]**2 + point[1]**2)\n",
    "\n",
    "# test \n",
    "print(get_mag(data[0][0,0,0]))"
   ]
  },
  {
   "cell_type": "markdown",
   "metadata": {},
   "source": [
    "Experiment: Caclulate $\\frac{voxel_{real}}{voxel_{magnitudes}}$ and check if it is approximately the same."
   ]
  },
  {
   "cell_type": "code",
   "execution_count": null,
   "metadata": {},
   "outputs": [],
   "source": [
    "voxel = data[np.random.randint(0, 500)]\n",
    "voxel.shape"
   ]
  },
  {
   "cell_type": "code",
   "execution_count": null,
   "metadata": {},
   "outputs": [],
   "source": [
    "print('min-real:', voxel[:,:,:,0].min().item())\n",
    "print('max-real:', voxel[:,:,:,0].max().item())\n",
    "\n",
    "print('min-imag:', voxel[:,:,:,1].min().item())\n",
    "print('max-imag:', voxel[:,:,:,1].max().item())"
   ]
  },
  {
   "cell_type": "code",
   "execution_count": null,
   "metadata": {},
   "outputs": [],
   "source": [
    "proportions = []\n",
    "proportions_imag = []\n",
    "\n",
    "for i in range(voxel.shape[0]):\n",
    "    for j in range(voxel.shape[1]):\n",
    "        for k in range(voxel.shape[2]):\n",
    "            point = voxel[i,j,k]\n",
    "            magnitude = math.sqrt(point[0]**2 + point[1]**2)\n",
    "            proportions.append(point[0]/magnitude)\n",
    "            proportions_imag.append(point[1]/magnitude)\n",
    "\n",
    "print('min:', min(proportions).item())\n",
    "print('max:', max(proportions).item(), end='\\n\\n')\n",
    "\n",
    "for i in range(5):\n",
    "    print(proportions[random.randint(0, len(proportions))].item())\n",
    "\n",
    "print('')\n",
    "print('ones :', proportions.count(1))\n",
    "print('other:', len(proportions) - proportions.count(1), end='\\n\\n')\n",
    "\n",
    "print('mean of real proportions:', (sum(proportions)/len(proportions)).item())\n",
    "print('mean of imag proportions:', (sum(proportions_imag)/len(proportions_imag)).item())"
   ]
  },
  {
   "cell_type": "code",
   "execution_count": null,
   "metadata": {},
   "outputs": [],
   "source": [
    "# now the same over the 500 voxels in the dataset\n",
    "proportions = []\n",
    "proportions_imag = []\n",
    "\n",
    "# only 100\n",
    "for voxel in data[:100]:\n",
    "    for i in range(voxel.shape[0]):\n",
    "        for j in range(voxel.shape[1]):\n",
    "            for k in range(voxel.shape[2]):\n",
    "                point = voxel[i,j,k]\n",
    "                magnitude = math.sqrt(point[0]**2 + point[1]**2)\n",
    "                proportions.append(point[0]/magnitude)\n",
    "                proportions_imag.append(point[1]/magnitude)\n",
    "\n",
    "print('min:', min(proportions).item())\n",
    "print('max:', max(proportions).item(), end='\\n\\n')\n",
    "\n",
    "print('ones :', proportions.count(1))\n",
    "print('other:', len(proportions) - proportions.count(1), end='\\n\\n')\n",
    "\n",
    "print('mean of real proportions:', (sum(proportions)/len(proportions)).item())\n",
    "print('mean of imag proportions:', (sum(proportions_imag)/len(proportions_imag)).item())"
   ]
  },
  {
   "cell_type": "code",
   "execution_count": null,
   "metadata": {},
   "outputs": [],
   "source": [
    "print('-ones:', proportions.count(-1))"
   ]
  },
  {
   "cell_type": "code",
   "execution_count": null,
   "metadata": {},
   "outputs": [],
   "source": [
    "ones = proportions.count(1)\n",
    "minus_ones = proportions.count(-1)\n",
    "all = len(proportions)"
   ]
  },
  {
   "cell_type": "code",
   "execution_count": null,
   "metadata": {},
   "outputs": [],
   "source": [
    "print('ones:', ones)\n",
    "print('-ones:', minus_ones)\n",
    "print('other:', all - ones - minus_ones)\n",
    "print('total:', all)"
   ]
  },
  {
   "cell_type": "code",
   "execution_count": null,
   "metadata": {},
   "outputs": [],
   "source": [
    "# find values that are not 1 and -1\n",
    "not_ones = [x for x in proportions if x != 1 and x != -1]\n",
    "print('not ones:', len(not_ones))"
   ]
  },
  {
   "cell_type": "code",
   "execution_count": null,
   "metadata": {},
   "outputs": [],
   "source": [
    "# some not_ones\n",
    "for i in range(5):\n",
    "    print(not_ones[random.randint(0, len(not_ones))].item())"
   ]
  },
  {
   "cell_type": "code",
   "execution_count": null,
   "metadata": {},
   "outputs": [],
   "source": [
    "# get lowest and highest values\n",
    "print('min:', min(not_ones).item())\n",
    "print('max:', max(not_ones).item())\n",
    "\n",
    "# get nearest to 0\n",
    "print('nearest to 0:', min(not_ones, key=lambda x: abs(x)).item())"
   ]
  },
  {
   "cell_type": "markdown",
   "metadata": {},
   "source": [
    "---"
   ]
  },
  {
   "cell_type": "code",
   "execution_count": null,
   "metadata": {},
   "outputs": [],
   "source": [
    "# iterate over all in \"data\" (500) but only use the center of the voxel, 3x3x3\n",
    "proportions_real = []\n",
    "proportions_imag = []\n",
    "start = 10\n",
    "end = 24\n",
    "status = 0\n",
    "\n",
    "for voxel in data:\n",
    "    for i in range(start, end):\n",
    "        for j in range(start, end):\n",
    "            for k in range(start, end):\n",
    "                point = voxel[i,j,k]\n",
    "                magnitude = math.sqrt(point[0]**2 + point[1]**2)\n",
    "                proportions_real.append(point[0]/magnitude)\n",
    "                proportions_imag.append(point[1]/magnitude)\n",
    "    # prpgress bar 0-500\n",
    "    status += 1\n",
    "    print('status:', status, end='\\r')\n",
    "\n",
    "print('--- results ---')\n",
    "print('shape of data:', data.shape, end = '\\n\\n')\n",
    "      \n",
    "print('min-real:', min(proportions_real).item())\n",
    "print('max-real:', max(proportions_real).item(), end='\\n\\n')\n",
    "print('min-imag:', min(proportions_imag).item())\n",
    "print('max-imag:', max(proportions_imag).item(), end='\\n\\n')\n",
    "\n",
    "print('real values')\n",
    "print('ones :', proportions_real.count(1))\n",
    "print('-ones:', proportions_real.count(-1))\n",
    "print('1--1 :', len(proportions_real) - proportions_real.count(1), end='\\n\\n')\n",
    "\n",
    "print('mean of real proportions:', (sum(proportions_real)/len(proportions_real)).item())\n",
    "print('mean of imag proportions:', (sum(proportions_imag)/len(proportions_imag)).item())\n",
    "abs_proportions_real = [abs(x) for x in proportions_real]\n",
    "print('mean of abs real proportions:', (sum(abs_proportions_real)/len(abs_proportions_real)).item(), end='\\n\\n')\n",
    "\n",
    "# get nearest to 0\n",
    "print('nearest to 0:', min(proportions_real, key=lambda x: abs(x)).item())\n"
   ]
  },
  {
   "cell_type": "markdown",
   "metadata": {},
   "source": [
    "12-22\n",
    "\n",
    "```\n",
    "--- results ---\n",
    "min-real: -1.0\n",
    "max-real: 1.0\n",
    "\n",
    "min-imag: -2.2625464685242974e-13\n",
    "max-imag: 2.0267966938295807e-13\n",
    "\n",
    "ones : 494560\n",
    "-ones: 5440\n",
    "other: 5440\n",
    "\n",
    "mean of real proportions: 0.97824                       # WHAT\n",
    "mean of imag proportions: -1.1808454438036754e-17\n",
    "nearest to 0: 1.0\n",
    "```"
   ]
  },
  {
   "cell_type": "markdown",
   "metadata": {},
   "source": [
    "### Efficient Checking\n",
    "For other proportions than 1 or -1."
   ]
  },
  {
   "cell_type": "code",
   "execution_count": 4,
   "metadata": {},
   "outputs": [
    {
     "name": "stdout",
     "output_type": "stream",
     "text": [
      "--- results ---\n",
      "shape of data: (500,)\n",
      "\n",
      "not ones: 60638 which is  0.33746834738570275 % of all points\n",
      "there are 17968500 points in total\n"
     ]
    }
   ],
   "source": [
    "# iterate over all in \"data\" (500) but only use the center of the voxel, 3x3x3\n",
    "not_ones = []\n",
    "status = 0\n",
    "count = 0\n",
    "\n",
    "for voxel in data:\n",
    "    for i in range(voxel.shape[0]):\n",
    "        for j in range(voxel.shape[1]):\n",
    "            for k in range(voxel.shape[2]):\n",
    "                point = voxel[i,j,k]\n",
    "                magnitude = math.sqrt(point[0]**2 + point[1]**2)\n",
    "\n",
    "                prop_real = abs((point[0]/magnitude).item())\n",
    "                #print('prop_real:', prop_real)\n",
    "\n",
    "                count += 1\n",
    "                \n",
    "                # if the proportion of real/mag is not 1 or -1, add to list\n",
    "                if prop_real != 1:\n",
    "                    #print(prop_real, 'at', i, j, k)\n",
    "                    #print('real:', point[0].item())\n",
    "                    #print('imag:', point[1].item())\n",
    "                    not_ones.append(prop_real)\n",
    "                else:\n",
    "                    #print(prop_real) \n",
    "                    pass\n",
    "                        \n",
    "\n",
    "    # prpgress bar 0-500\n",
    "    status += 1\n",
    "    print('status:', status, end='\\r')\n",
    "\n",
    "\n",
    "print('--- results ---')\n",
    "print('shape of data:', data.shape, end = '\\n\\n')\n",
    "\n",
    "# results\n",
    "print('not ones:', len(not_ones), 'which is ', len(not_ones)/count*100, '% of all points')\n",
    "print('there are', count, 'points in total')\n"
   ]
  },
  {
   "cell_type": "code",
   "execution_count": 5,
   "metadata": {},
   "outputs": [
    {
     "name": "stdout",
     "output_type": "stream",
     "text": [
      "mean of abs not ones: 0.9999951871366353\n"
     ]
    }
   ],
   "source": [
    "# mean of abs (not ones)\n",
    "abs_not_ones = [abs(x) for x in not_ones]\n",
    "try:\n",
    "    print('mean of abs not ones:', (sum(abs_not_ones)/len(abs_not_ones)))\n",
    "except ZeroDivisionError:\n",
    "    print('There are none - or literally not enough!')"
   ]
  },
  {
   "cell_type": "markdown",
   "metadata": {},
   "source": [
    "```\n",
    "--- results ---\n",
    "shape of data: (500,)\n",
    "\n",
    "not ones: 60638 which is  0.33746834738570275 % of all points\n",
    "there are 17968500 points in total\n",
    "\n",
    "mean of abs not ones: 0.9999951871366353\n",
    "```"
   ]
  }
 ],
 "metadata": {
  "kernelspec": {
   "display_name": "Python 3",
   "language": "python",
   "name": "python3"
  },
  "language_info": {
   "codemirror_mode": {
    "name": "ipython",
    "version": 3
   },
   "file_extension": ".py",
   "mimetype": "text/x-python",
   "name": "python",
   "nbconvert_exporter": "python",
   "pygments_lexer": "ipython3",
   "version": "3.12.3"
  }
 },
 "nbformat": 4,
 "nbformat_minor": 2
}
