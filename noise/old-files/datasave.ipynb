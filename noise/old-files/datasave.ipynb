{
 "cells": [
  {
   "cell_type": "markdown",
   "metadata": {},
   "source": [
    "### 🚧 Todo 🚧\n",
    "Rewrite this and add more explanation."
   ]
  },
  {
   "cell_type": "markdown",
   "metadata": {},
   "source": [
    "# Data Saving and Conversion\n",
    "Save the chunks as `.pt` files (torch), it asks for the index. \n",
    "\n",
    "<details><summary>Packages</summary>\n",
    "\n",
    "- `ipynb` is required to import functions from another Jupyter notebook, see [here](https://stackoverflow.com/questions/44116194/import-a-function-from-another-ipynb-file). \n",
    "- `mat73` is required to load `.mat` files (version 7.3), see [here](https://pypi.org/project/mat73/).\n",
    "\n",
    "```bash\n",
    "pip install ipynb\n",
    "pip install mat73\n",
    "```\n",
    "\n",
    "</details>"
   ]
  },
  {
   "cell_type": "code",
   "execution_count": 18,
   "metadata": {},
   "outputs": [],
   "source": [
    "import mat73\n",
    "import numpy as np\n",
    "import torch\n",
    "\n",
    "# from ipynb.fs.full.functions import prepare_voxel"
   ]
  },
  {
   "cell_type": "code",
   "execution_count": 19,
   "metadata": {},
   "outputs": [
    {
     "name": "stdout",
     "output_type": "stream",
     "text": [
      "Index: 01\n"
     ]
    }
   ],
   "source": [
    "index  = input('Enter index of the chunk: ')\n",
    "\n",
    "# convert back to string with 0+\n",
    "if len(str(index)) == 1:\n",
    "    index = '0' + str(index)\n",
    "else:\n",
    "    index = str(index)\n",
    "\n",
    "print('Index:', index)\n",
    "\n",
    "path = '/home/matthias/Downloads/firefox-dev/data/simulation_results_' + index + '.mat'\n",
    "\n",
    "data = mat73.loadmat(path)"
   ]
  },
  {
   "cell_type": "code",
   "execution_count": 20,
   "metadata": {},
   "outputs": [],
   "source": [
    "# print(data.keys())"
   ]
  },
  {
   "cell_type": "code",
   "execution_count": 21,
   "metadata": {},
   "outputs": [],
   "source": [
    "# convert to numpy array\n",
    "data = list(data.values())\n",
    "data = np.array(data[0])\n",
    "\n",
    "# empty torch array\n",
    "data_torch = np.zeros(len(data), dtype=object)\n",
    "\n",
    "# append data\n",
    "for i in range(len(data)):\n",
    "    data_torch[i] = torch.tensor(data[i]['qspace'])  "
   ]
  },
  {
   "cell_type": "code",
   "execution_count": 22,
   "metadata": {},
   "outputs": [
    {
     "name": "stdout",
     "output_type": "stream",
     "text": [
      "torch.Size([33, 33, 33])\n"
     ]
    }
   ],
   "source": [
    "print(data_torch[444].shape)"
   ]
  },
  {
   "cell_type": "code",
   "execution_count": 23,
   "metadata": {},
   "outputs": [],
   "source": [
    "# stack in lists\n",
    "for i in range(len(data_torch)):\n",
    "    # each entry is a list of real and imaginary part\n",
    "    data_torch[i] = torch.stack((data_torch[i].real, data_torch[i].imag), dim=-1)\n"
   ]
  },
  {
   "cell_type": "code",
   "execution_count": 24,
   "metadata": {},
   "outputs": [],
   "source": [
    "# same but normalized\n",
    "# for i in range(len(data_torch)):\n",
    "#     # Extract real and imaginary parts\n",
    "#     real = data_torch[i].real\n",
    "#     imag = data_torch[i].imag\n",
    "# \n",
    "#     # Compute min and max separately for real and imaginary parts\n",
    "#     min_real = real.min()\n",
    "#     max_real = real.max()\n",
    "#     min_imag = imag.min()\n",
    "#     max_imag = imag.max()\n",
    "# \n",
    "#     # Normalize real and imaginary parts separately\n",
    "#     real_normalized = (real - min_real) / (max_real - min_real)\n",
    "#     imag_normalized = (imag - min_imag) / (max_imag - min_imag)\n",
    "# \n",
    "#     # Combine real and imaginary parts back into a complex tensor, as list [real, imag]\n",
    "#     data_torch[i] = torch.stack([real_normalized, imag_normalized], dim=-1)"
   ]
  },
  {
   "cell_type": "code",
   "execution_count": 27,
   "metadata": {},
   "outputs": [],
   "source": [
    "# save to file\n",
    "torch.save(data_torch, 'qspace_orig' + index + '.pt')         # n=norm, r=real, approx. 140MB"
   ]
  }
 ],
 "metadata": {
  "kernelspec": {
   "display_name": "Python 3",
   "language": "python",
   "name": "python3"
  },
  "language_info": {
   "codemirror_mode": {
    "name": "ipython",
    "version": 3
   },
   "file_extension": ".py",
   "mimetype": "text/x-python",
   "name": "python",
   "nbconvert_exporter": "python",
   "pygments_lexer": "ipython3",
   "version": "3.12.3"
  }
 },
 "nbformat": 4,
 "nbformat_minor": 2
}
