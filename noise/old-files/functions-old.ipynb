{
 "cells": [
  {
   "cell_type": "markdown",
   "metadata": {},
   "source": [
    "___\n",
    "### 🚧 Warning 🚧\n",
    "None of this code is adjusted to the new data format, it will probably not work. The `visualize` function probably just needs a bit of tweaking.\n",
    "___"
   ]
  },
  {
   "cell_type": "markdown",
   "metadata": {},
   "source": [
    "# Functions \n",
    "Functions that are generally useful for all the files. Some functions are still only in their origin notebook."
   ]
  },
  {
   "cell_type": "code",
   "execution_count": 1,
   "metadata": {},
   "outputs": [],
   "source": [
    "import numpy as np\n",
    "import matplotlib.pyplot as plt\n",
    "import torch"
   ]
  },
  {
   "cell_type": "markdown",
   "metadata": {},
   "source": [
    "# Visualization\n",
    "The function `visualize` takes the voxel data (only qspace) as a tensor and plots it. \n",
    "\n",
    "| Status | Task                               | Note                      |\n",
    "|--------|------------------------------------|--------------------------|\n",
    "| done   | Visualize                          |                          |\n",
    "| done   | Add transparency to \"see\" the shape|                          |\n",
    "|        | Add input arguments like title, labels, etc. |                |\n",
    "|        | Check data and throw error if needed |                        |"
   ]
  },
  {
   "cell_type": "code",
   "execution_count": 2,
   "metadata": {},
   "outputs": [],
   "source": [
    "# this function takes a 33x33x33 voxel (as tensor) and visualizes it.\n",
    "def visualize(voxel, int_range=[0.6,1], title='Plot'):\n",
    "    \"\"\"\n",
    "    Visualizes the intensity data in a 3D scatter plot.\n",
    "\n",
    "    Parameters:\n",
    "    - voxel: tensor\n",
    "        The intensity data to be visualized.\n",
    "    - int_range: list, optional\n",
    "        The range of intensity values to be displayed, everything else is cut off. The default values work pretty well for my tests, but adjust if needed.\n",
    "    - title: string, optional\n",
    "        The title of the plot.\n",
    "\n",
    "    Returns:\n",
    "    None, displays the 3D plot. \n",
    "\n",
    "    Info:\n",
    "    '%matplotlib widget' makes the plot interactive, could not be solved via if-statement, so comment or uncomment it manually.\n",
    "    \"\"\"\n",
    "\n",
    "    # make interactive, if wanted\n",
    "    #%matplotlib widget   \n",
    "\n",
    "    # create meshgrid, better data structure for 3D plotting\n",
    "    x, y, z = np.meshgrid(\n",
    "        np.arange(voxel.shape[0]),\n",
    "        np.arange(voxel.shape[1]),\n",
    "        np.arange(voxel.shape[2])\n",
    "    )\n",
    "\n",
    "    # copy \n",
    "    voxel_cut = voxel.clone().detach().numpy()\n",
    "\n",
    "    # set values that are not in int_range\n",
    "    voxel_cut[voxel < int_range[0]] = np.nan\n",
    "    voxel_cut[voxel > int_range[1]] = np.nan\n",
    "\n",
    "    # Plot the intensity data in 3D\n",
    "    fig = plt.figure()\n",
    "    ax = fig.add_subplot(111, projection='3d')\n",
    "    ax.scatter(x, y, z, c=voxel_cut.flatten())\n",
    "\n",
    "    # Add labels to the axes\n",
    "    ax.set_xlabel('X')\n",
    "    ax.set_ylabel('Y')\n",
    "    ax.set_zlabel('Z')\n",
    "\n",
    "    # add title\n",
    "    ax.set_title(title)\n",
    "\n",
    "    # add legend with colorbar\n",
    "    plt.colorbar(ax.scatter(x, y, z, c=voxel_cut.flatten()), ax=ax, label='Intensity')\n",
    "    plt.show()"
   ]
  },
  {
   "cell_type": "markdown",
   "metadata": {},
   "source": [
    "# Plot the Noise\n",
    "This function (`plot_noise`) is very simple and only calculates the difference of two tensors and plots it.\n",
    "\n",
    "| Status | Task                               | Note                      |\n",
    "|--------|------------------------------------|---------------------------|\n",
    "| done   | Plot the noise                     |                           |\n",
    "|        | Calculate the difference of two tensors |                      |"
   ]
  },
  {
   "cell_type": "code",
   "execution_count": 3,
   "metadata": {},
   "outputs": [],
   "source": [
    "# function that displays the noise added\n",
    "def plot_noise(truth, noised, int_range=[0.6, 1], title='Nosie'):\n",
    "    \"\"\"\n",
    "    Plots the noise between the truth and noised arrays.\n",
    "    \n",
    "    Parameters:\n",
    "    truth (array-like): The ground truth array.             ???????????????????\n",
    "    noised (array-like): The noised array.                  ???????????????!???\n",
    "    \"\"\"\n",
    "    noise = noised - truth\n",
    "    visualize(noise, int_range=int_range, title=title)"
   ]
  },
  {
   "cell_type": "markdown",
   "metadata": {},
   "source": [
    "## Adjust\n",
    "This function normalizes the data to a range of 0 to 1 and removes the imaginary part.\n",
    "\n",
    "https://mriquestions.com/real-v-imaginary.html"
   ]
  },
  {
   "cell_type": "code",
   "execution_count": 4,
   "metadata": {},
   "outputs": [],
   "source": [
    "def prepare_voxel(voxel):\n",
    "    \"\"\"\n",
    "    Preprocesses a voxel by removing the imaginary part, and normalizing it to the range [0, 1].\n",
    "\n",
    "    Parameters:\n",
    "    voxel (ndarray): The input voxel array.\n",
    "\n",
    "    Returns:\n",
    "    ndarray: The preprocessed voxel array.          ????type torch?????\n",
    "    \"\"\"\n",
    "\n",
    "    voxel = voxel.real\n",
    "    voxel = (voxel - voxel.min()) / (voxel.max() - voxel.min())\n",
    "    return voxel"
   ]
  },
  {
   "cell_type": "markdown",
   "metadata": {},
   "source": [
    "# Save\n",
    "This saves the `.pt` chunks, but not yet implemented. The original file does this at the moment."
   ]
  },
  {
   "cell_type": "code",
   "execution_count": 5,
   "metadata": {},
   "outputs": [],
   "source": [
    "# convert the data chunk to a \".pt\" file for all the 20 chunks\n",
    "def save_to_pt(data_chunk, name, folder_path):\n",
    "    torch.save(data_chunk, folder_path + '/' + name + \".pt\")"
   ]
  }
 ],
 "metadata": {
  "kernelspec": {
   "display_name": "Python 3",
   "language": "python",
   "name": "python3"
  },
  "language_info": {
   "codemirror_mode": {
    "name": "ipython",
    "version": 3
   },
   "file_extension": ".py",
   "mimetype": "text/x-python",
   "name": "python",
   "nbconvert_exporter": "python",
   "pygments_lexer": "ipython3",
   "version": "3.12.3"
  }
 },
 "nbformat": 4,
 "nbformat_minor": 2
}
