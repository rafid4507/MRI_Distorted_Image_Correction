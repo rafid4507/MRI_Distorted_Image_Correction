{
 "cells": [
  {
   "cell_type": "markdown",
   "metadata": {},
   "source": [
    "# Creating Point Clouds\n",
    "\n",
    "Follow the steps, and you should be able to create all the point cloud samples and load the to your local data folder\n",
    "\n",
    "Firstly, make sure you have a `data` folder existing in the project directory. (It's on the same level as the `tutorial` folder, not inside the `tutorial` folder)"
   ]
  },
  {
   "cell_type": "markdown",
   "metadata": {},
   "source": [
    "### Adjust Paths"
   ]
  },
  {
   "cell_type": "code",
   "execution_count": 1,
   "metadata": {},
   "outputs": [],
   "source": [
    "import sys\n",
    "sys.path.append(\"..\")"
   ]
  },
  {
   "cell_type": "markdown",
   "metadata": {},
   "source": [
    "Adds the project directory to the working directory. Otherwise it might have trouble finding the files\n",
    "\n",
    "### Creation Function"
   ]
  },
  {
   "cell_type": "code",
   "execution_count": 2,
   "metadata": {},
   "outputs": [
    {
     "name": "stderr",
     "output_type": "stream",
     "text": [
      "c:\\Studium\\ProjectMRI\\Repo\\Hough-Transformations\\test\\..\\src\\loaders.py:29: SyntaxWarning: invalid escape sequence '\\d'\n",
      "  reg_detector = regex.compile(f\"simulation_results_\\d\\d.mat\")\n",
      "Loading from .mat files: 100%|██████████| 500/500 [00:00<00:00, 2070.02it/s]\n",
      "Creation of Point Clouds: 100%|██████████| 500/500 [00:00<00:00, 4179.07it/s]\n"
     ]
    },
    {
     "name": "stdout",
     "output_type": "stream",
     "text": [
      "Folder '..\\data\\cloudpoints' already exists.\n",
      "Dictionary saved to '..\\data\\cloudpoints\\simulation_results_01.mat_cloud.pkl' successfully.\n"
     ]
    }
   ],
   "source": [
    "from src.creation import create_all_pointclouds_batches\n",
    "\n",
    "create_all_pointclouds_batches(approach=\"mean\")\n",
    "# Approach:     Set the approach on how the threshold for point cloud creation is calculated"
   ]
  },
  {
   "cell_type": "markdown",
   "metadata": {},
   "source": [
    "It will create all batches from `.mat` files and save them to `cloudpoints`, a folder inside `data`. (And create the `cloudpoints` folder if it does not exist yet)"
   ]
  },
  {
   "cell_type": "markdown",
   "metadata": {},
   "source": [
    "### Helper Functions\n",
    "\n",
    "This might be useful, for handling the files."
   ]
  },
  {
   "cell_type": "code",
   "execution_count": 3,
   "metadata": {},
   "outputs": [
    {
     "name": "stdout",
     "output_type": "stream",
     "text": [
      "simulation_results_01.mat_cloud.pkl\n"
     ]
    }
   ],
   "source": [
    "from src.loaders import get_file_names\n",
    "\n",
    "# Create a list of all the created files.\n",
    "names = get_file_names(folder=\"cloud\")\n",
    "print(names[0])"
   ]
  },
  {
   "cell_type": "markdown",
   "metadata": {},
   "source": [
    "How you load the files is up to you. Since they were dumped using `pickle`, it is recommanded, that you use `pickle`, too.\n",
    "\n",
    "If you need any more help, let me know!"
   ]
  },
  {
   "cell_type": "markdown",
   "metadata": {},
   "source": [
    "This is a recommendation on how to load the file again."
   ]
  },
  {
   "cell_type": "code",
   "execution_count": null,
   "metadata": {},
   "outputs": [],
   "source": [
    "import pickle\n",
    "\n",
    "file = None\n",
    "with (open(\"../data/cloudpoints/\" + names[0], \"rb\")) as openfile:\n",
    "    while True:\n",
    "        try:\n",
    "            file = pickle.load(openfile)\n",
    "        except EOFError:\n",
    "            break"
   ]
  },
  {
   "cell_type": "markdown",
   "metadata": {},
   "source": [
    "This is how you get the **i-th** cloud and the **i-th** fiber fractions "
   ]
  },
  {
   "cell_type": "code",
   "execution_count": null,
   "metadata": {},
   "outputs": [],
   "source": [
    "i = 0\n",
    "file[\"coordinates\"][i]\n",
    "file[\"fiber_fractions\"][i]"
   ]
  }
 ],
 "metadata": {
  "kernelspec": {
   "display_name": "ml3.conda",
   "language": "python",
   "name": "python3"
  },
  "language_info": {
   "codemirror_mode": {
    "name": "ipython",
    "version": 3
   },
   "file_extension": ".py",
   "mimetype": "text/x-python",
   "name": "python",
   "nbconvert_exporter": "python",
   "pygments_lexer": "ipython3",
   "version": "3.12.2"
  }
 },
 "nbformat": 4,
 "nbformat_minor": 2
}
